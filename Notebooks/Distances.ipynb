{
 "cells": [
  {
   "cell_type": "code",
   "execution_count": 3,
   "metadata": {},
   "outputs": [],
   "source": [
    "import numpy as np\n",
    "import math\n",
    "import pandas as pd"
   ]
  },
  {
   "cell_type": "code",
   "execution_count": 1,
   "metadata": {},
   "outputs": [],
   "source": [
    "class Distances:\n",
    "    \n",
    "    def euclidean(x,y):\n",
    "        if len(x) != len(y):\n",
    "            print(\"Error! Arrays doesn't have the same length.\")\n",
    "            return -1\n",
    "        else:\n",
    "            return math.sqrt(sum([(i-j)**2 for i,j in zip(x,y)]))\n",
    "        \n",
    "    def DTW(x,y):\n",
    "        # Size of time series\n",
    "        n = len(x)\n",
    "        m = len(y)\n",
    "        \n",
    "        # Columns and index of table\n",
    "        cols = [i for i in range(m+1)]\n",
    "        idx = [i for i in range(n+1)]\n",
    "        \n",
    "        # Cost matrix\n",
    "        dtw = pd.DataFrame(index=idx[::-1], columns=cols)\n",
    "        dtw.loc[0,0] = 0\n",
    "        dtw.iloc[:-1, 0] = np.inf\n",
    "        dtw.loc[0, 1:] = np.inf\n",
    "        \n",
    "        for i in range(1, n+1):\n",
    "            for j in range(1, m+1):\n",
    "                cost = abs(x[i-1] - y[j-1])\n",
    "                dtw.loc[i, j] = cost + min(dtw.loc[i-1, j], dtw.loc[i, j-1], dtw.loc[i-1,j-1])\n",
    "        \n",
    "        # Warp path\n",
    "        path = []\n",
    "        path.append((n,m))\n",
    "        i = n\n",
    "        j = m\n",
    "        while i > 1 or j > 1:\n",
    "            if i == 1:\n",
    "                j -= 1\n",
    "            elif j == 1:\n",
    "                i -= 1\n",
    "            else:\n",
    "                idxs = {dtw.loc[i-1, j]:(i-1, j), dtw.loc[i, j-1]:(i, j-1), dtw.loc[i-1,j-1]:(i-1,j-1)}\n",
    "                i = idxs[min(list(idxs.keys()))][0]\n",
    "                j = idxs[min(list(idxs.keys()))][1]\n",
    "                path.append((i,j))\n",
    "\n",
    "        cost = dtw.iloc[0,-1]\n",
    "        return dtw.iloc[:-1, 1:], path, cost"
   ]
  }
 ],
 "metadata": {
  "kernelspec": {
   "display_name": "Python 3",
   "language": "python",
   "name": "python3"
  },
  "language_info": {
   "codemirror_mode": {
    "name": "ipython",
    "version": 3
   },
   "file_extension": ".py",
   "mimetype": "text/x-python",
   "name": "python",
   "nbconvert_exporter": "python",
   "pygments_lexer": "ipython3",
   "version": "3.6.5"
  }
 },
 "nbformat": 4,
 "nbformat_minor": 2
}
